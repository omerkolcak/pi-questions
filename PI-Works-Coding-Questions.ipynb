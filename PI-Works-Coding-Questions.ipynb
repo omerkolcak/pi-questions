{
 "cells": [
  {
   "cell_type": "code",
   "execution_count": 1,
   "id": "93d1f8c9",
   "metadata": {},
   "outputs": [],
   "source": [
    "import pandas as pd"
   ]
  },
  {
   "cell_type": "code",
   "execution_count": 2,
   "id": "10522b37",
   "metadata": {},
   "outputs": [],
   "source": [
    "vac_df = pd.read_csv(\"country_vaccination_stats.csv\")"
   ]
  },
  {
   "cell_type": "code",
   "execution_count": 3,
   "id": "1f8998f7",
   "metadata": {},
   "outputs": [
    {
     "data": {
      "text/html": [
       "<div>\n",
       "<style scoped>\n",
       "    .dataframe tbody tr th:only-of-type {\n",
       "        vertical-align: middle;\n",
       "    }\n",
       "\n",
       "    .dataframe tbody tr th {\n",
       "        vertical-align: top;\n",
       "    }\n",
       "\n",
       "    .dataframe thead th {\n",
       "        text-align: right;\n",
       "    }\n",
       "</style>\n",
       "<table border=\"1\" class=\"dataframe\">\n",
       "  <thead>\n",
       "    <tr style=\"text-align: right;\">\n",
       "      <th></th>\n",
       "      <th>country</th>\n",
       "      <th>date</th>\n",
       "      <th>daily_vaccinations</th>\n",
       "      <th>vaccines</th>\n",
       "    </tr>\n",
       "  </thead>\n",
       "  <tbody>\n",
       "    <tr>\n",
       "      <th>0</th>\n",
       "      <td>Argentina</td>\n",
       "      <td>12/29/2020</td>\n",
       "      <td>NaN</td>\n",
       "      <td>Sputnik V</td>\n",
       "    </tr>\n",
       "    <tr>\n",
       "      <th>1</th>\n",
       "      <td>Argentina</td>\n",
       "      <td>12/30/2020</td>\n",
       "      <td>15656.0</td>\n",
       "      <td>Sputnik V</td>\n",
       "    </tr>\n",
       "    <tr>\n",
       "      <th>2</th>\n",
       "      <td>Argentina</td>\n",
       "      <td>12/31/2020</td>\n",
       "      <td>15656.0</td>\n",
       "      <td>Sputnik V</td>\n",
       "    </tr>\n",
       "    <tr>\n",
       "      <th>3</th>\n",
       "      <td>Argentina</td>\n",
       "      <td>1/1/2021</td>\n",
       "      <td>11070.0</td>\n",
       "      <td>Sputnik V</td>\n",
       "    </tr>\n",
       "    <tr>\n",
       "      <th>4</th>\n",
       "      <td>Argentina</td>\n",
       "      <td>1/2/2021</td>\n",
       "      <td>8776.0</td>\n",
       "      <td>Sputnik V</td>\n",
       "    </tr>\n",
       "  </tbody>\n",
       "</table>\n",
       "</div>"
      ],
      "text/plain": [
       "     country        date  daily_vaccinations   vaccines\n",
       "0  Argentina  12/29/2020                 NaN  Sputnik V\n",
       "1  Argentina  12/30/2020             15656.0  Sputnik V\n",
       "2  Argentina  12/31/2020             15656.0  Sputnik V\n",
       "3  Argentina    1/1/2021             11070.0  Sputnik V\n",
       "4  Argentina    1/2/2021              8776.0  Sputnik V"
      ]
     },
     "execution_count": 3,
     "metadata": {},
     "output_type": "execute_result"
    }
   ],
   "source": [
    "vac_df.head()"
   ]
  },
  {
   "cell_type": "code",
   "execution_count": 4,
   "id": "a211e868",
   "metadata": {},
   "outputs": [
    {
     "data": {
      "text/plain": [
       "country                0\n",
       "date                   0\n",
       "daily_vaccinations    60\n",
       "vaccines               0\n",
       "dtype: int64"
      ]
     },
     "execution_count": 4,
     "metadata": {},
     "output_type": "execute_result"
    }
   ],
   "source": [
    "vac_df.isnull().sum()"
   ]
  },
  {
   "cell_type": "markdown",
   "id": "a6fef617",
   "metadata": {},
   "source": [
    "<h3> Question 4 </h3>\n",
    "\n",
    "<b> Implement code to fill the missing data (impute) in daily_vaccinations column per country with the minimum daily vaccination number of relevant countries. </b>\n",
    "\n",
    "Note: If a country does not have any valid vaccination number yet, fill it with “0” (zero). "
   ]
  },
  {
   "cell_type": "code",
   "execution_count": 5,
   "id": "1557da06",
   "metadata": {},
   "outputs": [
    {
     "name": "stdout",
     "output_type": "stream",
     "text": [
      "Number of null values: 0\n"
     ]
    }
   ],
   "source": [
    "new_df = (vac_df\n",
    " .assign(daily_vaccinations=(vac_df\n",
    "                             .groupby('country')                     # group by each country\n",
    "                             .daily_vaccinations                     # get the daily vaccinations\n",
    "                             .transform(lambda g: g.fillna(g.min())) # fill the every group with min vaccination\n",
    "                            ).fillna(0)                              # if still there are na values fill it with 0, as question suggests\n",
    "        )\n",
    ")\n",
    "\n",
    "print(f\"Number of null values: {new_df.daily_vaccinations.isnull().sum()}\")"
   ]
  },
  {
   "cell_type": "markdown",
   "id": "daae568e",
   "metadata": {},
   "source": [
    "<h3> Question 5 </h3>\n",
    "\n",
    "<b> Implement code to list the top-3 countries with highest median daily vaccination numbers by considering missing values imputed version of dataset. </b>"
   ]
  },
  {
   "cell_type": "code",
   "execution_count": 6,
   "id": "3f7deec4",
   "metadata": {},
   "outputs": [
    {
     "data": {
      "text/plain": [
       "country\n",
       "United States    378253.0\n",
       "China            276786.0\n",
       "India            173922.0\n",
       "Name: daily_vaccinations, dtype: float64"
      ]
     },
     "execution_count": 6,
     "metadata": {},
     "output_type": "execute_result"
    }
   ],
   "source": [
    "(new_df\n",
    " .groupby(\"country\")               # groupby each country\n",
    " .daily_vaccinations               # get the daily vaccinations\n",
    " .median()                         # find the median for every country\n",
    " .sort_values(ascending=False)[:3] # sort by value and get the top 3 country\n",
    ")"
   ]
  },
  {
   "cell_type": "markdown",
   "id": "bd8c5bf5",
   "metadata": {},
   "source": [
    "<h3> Question 6 </h3>\n",
    "\n",
    "<b> What is the number of total vaccinations done on 1/6/2021 (MM/DD/YYYY) by considering missing values imputed version of dataset? </b>"
   ]
  },
  {
   "cell_type": "code",
   "execution_count": 7,
   "id": "28415a8b",
   "metadata": {},
   "outputs": [
    {
     "data": {
      "text/plain": [
       "1485255.0"
      ]
     },
     "execution_count": 7,
     "metadata": {},
     "output_type": "execute_result"
    }
   ],
   "source": [
    "(new_df\n",
    " .loc[new_df.date == '1/6/2021'] # filter by 1/6/2021 \n",
    " .daily_vaccinations # get the daily vaccinations \n",
    " .sum() # and sum it\n",
    ")"
   ]
  },
  {
   "cell_type": "markdown",
   "id": "ddc5cabd",
   "metadata": {},
   "source": [
    "<h3> Question 7 </h3>\n",
    "\n",
    "<b> If this list would be a database table, please provide SQL query to fill in the missing daily vaccination numbers with discrete median of country as similar to question a. </b>"
   ]
  },
  {
   "cell_type": "markdown",
   "id": "143a76c6",
   "metadata": {},
   "source": [
    "SQL statement:"
   ]
  },
  {
   "cell_type": "code",
   "execution_count": null,
   "id": "ec28b0b9",
   "metadata": {},
   "outputs": [],
   "source": [
    "update country_vaccination_stats\n",
    "set daily_vaccinations = (\n",
    "  select MEDIAN(daily_vaccinations) \n",
    "  from country_vaccination_stats as t\n",
    "  WHERE country_vaccination_stats.country = t.country AND t.daily_vaccinations IS NOT NULL\n",
    " )\n",
    "where daily_vaccinations is NULL\n",
    " \n",
    " #if still there are na values, fill with 0\n",
    "update country_vaccination_stats \n",
    "set daily_vaccinations = 0 \n",
    "where daily_vaccinations is NULL"
   ]
  },
  {
   "cell_type": "markdown",
   "id": "6547703a",
   "metadata": {},
   "source": [
    "<h3> Question 8 </h3>"
   ]
  },
  {
   "cell_type": "markdown",
   "id": "1e06ea03",
   "metadata": {},
   "source": [
    "Create the sample dataframe to work on."
   ]
  },
  {
   "cell_type": "code",
   "execution_count": 8,
   "id": "44c89eaa",
   "metadata": {},
   "outputs": [
    {
     "data": {
      "text/html": [
       "<div>\n",
       "<style scoped>\n",
       "    .dataframe tbody tr th:only-of-type {\n",
       "        vertical-align: middle;\n",
       "    }\n",
       "\n",
       "    .dataframe tbody tr th {\n",
       "        vertical-align: top;\n",
       "    }\n",
       "\n",
       "    .dataframe thead th {\n",
       "        text-align: right;\n",
       "    }\n",
       "</style>\n",
       "<table border=\"1\" class=\"dataframe\">\n",
       "  <thead>\n",
       "    <tr style=\"text-align: right;\">\n",
       "      <th></th>\n",
       "      <th>Device_Type</th>\n",
       "      <th>Stats_Access_Link</th>\n",
       "    </tr>\n",
       "  </thead>\n",
       "  <tbody>\n",
       "    <tr>\n",
       "      <th>0</th>\n",
       "      <td>AXO145</td>\n",
       "      <td>&lt;url&gt;https://xcd32112.smart_meter.com&lt;/url&gt;</td>\n",
       "    </tr>\n",
       "    <tr>\n",
       "      <th>1</th>\n",
       "      <td>TRU151</td>\n",
       "      <td>&lt;url&gt;http://tXh67.dia_meter.com&lt;/url&gt;</td>\n",
       "    </tr>\n",
       "    <tr>\n",
       "      <th>2</th>\n",
       "      <td>ZOD231</td>\n",
       "      <td>&lt;url&gt;http://yT5495.smart_meter.com&lt;/url&gt;</td>\n",
       "    </tr>\n",
       "    <tr>\n",
       "      <th>3</th>\n",
       "      <td>YRT326</td>\n",
       "      <td>&lt;url&gt;https://ret323_TRu.crown.com&lt;/url&gt;</td>\n",
       "    </tr>\n",
       "    <tr>\n",
       "      <th>4</th>\n",
       "      <td>LWR245</td>\n",
       "      <td>&lt;url&gt;https://luwr3243.celcius.com&lt;/url&gt;</td>\n",
       "    </tr>\n",
       "  </tbody>\n",
       "</table>\n",
       "</div>"
      ],
      "text/plain": [
       "  Device_Type                            Stats_Access_Link\n",
       "0      AXO145  <url>https://xcd32112.smart_meter.com</url>\n",
       "1      TRU151        <url>http://tXh67.dia_meter.com</url>\n",
       "2      ZOD231     <url>http://yT5495.smart_meter.com</url>\n",
       "3      YRT326      <url>https://ret323_TRu.crown.com</url>\n",
       "4      LWR245      <url>https://luwr3243.celcius.com</url>"
      ]
     },
     "execution_count": 8,
     "metadata": {},
     "output_type": "execute_result"
    }
   ],
   "source": [
    "stats_access_df = pd.DataFrame({\n",
    "    'Device_Type' : ['AXO145','TRU151','ZOD231','YRT326','LWR245'],\n",
    "    'Stats_Access_Link' : ['<url>https://xcd32112.smart_meter.com</url>',\n",
    "                           '<url>http://tXh67.dia_meter.com</url>',\n",
    "                           '<url>http://yT5495.smart_meter.com</url>',\n",
    "                           '<url>https://ret323_TRu.crown.com</url>',\n",
    "                           '<url>https://luwr3243.celcius.com</url>',]\n",
    "    \n",
    "})\n",
    "\n",
    "stats_access_df"
   ]
  },
  {
   "cell_type": "code",
   "execution_count": 9,
   "id": "4e3f9b0b",
   "metadata": {},
   "outputs": [
    {
     "data": {
      "text/html": [
       "<div>\n",
       "<style scoped>\n",
       "    .dataframe tbody tr th:only-of-type {\n",
       "        vertical-align: middle;\n",
       "    }\n",
       "\n",
       "    .dataframe tbody tr th {\n",
       "        vertical-align: top;\n",
       "    }\n",
       "\n",
       "    .dataframe thead th {\n",
       "        text-align: right;\n",
       "    }\n",
       "</style>\n",
       "<table border=\"1\" class=\"dataframe\">\n",
       "  <thead>\n",
       "    <tr style=\"text-align: right;\">\n",
       "      <th></th>\n",
       "      <th>Device_Type</th>\n",
       "      <th>Stats_Access_Link</th>\n",
       "      <th>extracted_url</th>\n",
       "    </tr>\n",
       "  </thead>\n",
       "  <tbody>\n",
       "    <tr>\n",
       "      <th>0</th>\n",
       "      <td>AXO145</td>\n",
       "      <td>&lt;url&gt;https://xcd32112.smart_meter.com&lt;/url&gt;</td>\n",
       "      <td>xcd32112.smart_meter.com</td>\n",
       "    </tr>\n",
       "    <tr>\n",
       "      <th>1</th>\n",
       "      <td>TRU151</td>\n",
       "      <td>&lt;url&gt;http://tXh67.dia_meter.com&lt;/url&gt;</td>\n",
       "      <td>tXh67.dia_meter.com</td>\n",
       "    </tr>\n",
       "    <tr>\n",
       "      <th>2</th>\n",
       "      <td>ZOD231</td>\n",
       "      <td>&lt;url&gt;http://yT5495.smart_meter.com&lt;/url&gt;</td>\n",
       "      <td>yT5495.smart_meter.com</td>\n",
       "    </tr>\n",
       "    <tr>\n",
       "      <th>3</th>\n",
       "      <td>YRT326</td>\n",
       "      <td>&lt;url&gt;https://ret323_TRu.crown.com&lt;/url&gt;</td>\n",
       "      <td>ret323_TRu.crown.com</td>\n",
       "    </tr>\n",
       "    <tr>\n",
       "      <th>4</th>\n",
       "      <td>LWR245</td>\n",
       "      <td>&lt;url&gt;https://luwr3243.celcius.com&lt;/url&gt;</td>\n",
       "      <td>luwr3243.celcius.com</td>\n",
       "    </tr>\n",
       "  </tbody>\n",
       "</table>\n",
       "</div>"
      ],
      "text/plain": [
       "  Device_Type                            Stats_Access_Link  \\\n",
       "0      AXO145  <url>https://xcd32112.smart_meter.com</url>   \n",
       "1      TRU151        <url>http://tXh67.dia_meter.com</url>   \n",
       "2      ZOD231     <url>http://yT5495.smart_meter.com</url>   \n",
       "3      YRT326      <url>https://ret323_TRu.crown.com</url>   \n",
       "4      LWR245      <url>https://luwr3243.celcius.com</url>   \n",
       "\n",
       "              extracted_url  \n",
       "0  xcd32112.smart_meter.com  \n",
       "1       tXh67.dia_meter.com  \n",
       "2    yT5495.smart_meter.com  \n",
       "3      ret323_TRu.crown.com  \n",
       "4      luwr3243.celcius.com  "
      ]
     },
     "execution_count": 9,
     "metadata": {},
     "output_type": "execute_result"
    }
   ],
   "source": [
    "(stats_access_df\n",
    " # assign extracted url column\n",
    " .assign(extracted_url=(stats_access_df\n",
    "                       .Stats_Access_Link\n",
    "                       .str.extract(r'<url>https?://(.+?)</url>')) #extract the url between the pattern '<url>https?://</url>'\n",
    "        )\n",
    ")"
   ]
  },
  {
   "cell_type": "code",
   "execution_count": null,
   "id": "3236c0f9",
   "metadata": {},
   "outputs": [],
   "source": []
  }
 ],
 "metadata": {
  "kernelspec": {
   "display_name": "Python 3 (ipykernel)",
   "language": "python",
   "name": "python3"
  },
  "language_info": {
   "codemirror_mode": {
    "name": "ipython",
    "version": 3
   },
   "file_extension": ".py",
   "mimetype": "text/x-python",
   "name": "python",
   "nbconvert_exporter": "python",
   "pygments_lexer": "ipython3",
   "version": "3.9.10"
  }
 },
 "nbformat": 4,
 "nbformat_minor": 5
}
